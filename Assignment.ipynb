{
 "cells": [
  {
   "cell_type": "code",
   "execution_count": 11,
   "id": "86ef8505-5179-4d2f-8ec3-3a012caeb377",
   "metadata": {},
   "outputs": [
    {
     "name": "stdout",
     "output_type": "stream",
     "text": [
      "Enter first number:  2\n",
      "Enter second number:  7\n",
      "enter the operation you want to perform /\n"
     ]
    },
    {
     "name": "stdout",
     "output_type": "stream",
     "text": [
      "the quitent of two number is 0.2857142857142857\n"
     ]
    }
   ],
   "source": [
    "# quesrion no 1 (calculator)\n",
    "firstNumber = int(input(\"Enter first number: \"))\n",
    "secondNumber = int(input(\"Enter second number: \"))\n",
    "sign=input(\"enter the operation you want to perform\")\n",
    "if sign==\"+\":\n",
    "    print(\"the sum of two number is\", firstNumber + secondNumber)\n",
    "elif sign==\"-\":\n",
    "    print(\"the difference of two number is\", firstNumber-secondNumber)\n",
    "elif sign==\"*\":\n",
    "    print(\"the product of two number is\", firstNumber*secondNumber)\n",
    "elif sign==\"/\":\n",
    "    print(\"the quitent of two number is\", firstNumber/secondNumber)\n",
    "else:\n",
    "    print(\"something went wrong\")"
   ]
  },
  {
   "cell_type": "code",
   "execution_count": 16,
   "id": "e9eb7f5b-b499-472d-a713-7ab5017d49ec",
   "metadata": {},
   "outputs": [
    {
     "name": "stdout",
     "output_type": "stream",
     "text": [
      "enter the number you want to convert 10\n"
     ]
    },
    {
     "name": "stdout",
     "output_type": "stream",
     "text": [
      "the binary value of 10 is 1010\n"
     ]
    }
   ],
   "source": [
    "#question no 2 (decimal to binary)\n",
    "Number=int(input(\"enter the number you want to convert\"))\n",
    "print(f\"the binary value of {Number} is {bin(Number)[2:]}\")"
   ]
  },
  {
   "cell_type": "code",
   "execution_count": 22,
   "id": "ff17d016-4e27-4f4f-b3ac-b9227f67a3cf",
   "metadata": {},
   "outputs": [
    {
     "name": "stdout",
     "output_type": "stream",
     "text": [
      "enter the age of the user 67\n"
     ]
    },
    {
     "name": "stdout",
     "output_type": "stream",
     "text": [
      "user is senior\n"
     ]
    }
   ],
   "source": [
    "#question no 3 (verify either user is minor,adult or senior)\n",
    "userAge=int(input(\"enter the age of the user\"))\n",
    "if userAge>0 and userAge<=18:\n",
    "    print(\"user is minor\")\n",
    "elif userAge>18 and userAge<=55:\n",
    "    print(\"user is Adult\")\n",
    "elif userAge>55 and userAge<=120:\n",
    "    print(\"user is senior\")\n",
    "else:\n",
    "    print(\"something went wrong\")\n"
   ]
  },
  {
   "cell_type": "code",
   "execution_count": 24,
   "id": "244c1f6e-4a1a-4d15-ad2f-e3fdcea8f42a",
   "metadata": {},
   "outputs": [
    {
     "name": "stdout",
     "output_type": "stream",
     "text": [
      "enter the first number 2\n",
      "enter the second number 5\n"
     ]
    },
    {
     "name": "stdout",
     "output_type": "stream",
     "text": [
      "the value of a before swapping is 2\n",
      "the value of b before swapping is 5\n",
      "the value of a is 5\n",
      "the value of b is 2\n"
     ]
    }
   ],
   "source": [
    "#question no 4 (swap two numbers without using third variable)\n",
    "\n",
    "a=int(input(\"enter the first number\"))\n",
    "b=int(input(\"enter the second number\"))\n",
    "print(f\"the value of a before swapping is {a}\")\n",
    "print(f\"the value of b before swapping is {b}\")\n",
    "\n",
    "a=a+b\n",
    "b=a-b\n",
    "a=a-b\n",
    "print(f\"the value of a is {a}\")\n",
    "print(f\"the value of b is {b}\")\n",
    "\n"
   ]
  },
  {
   "cell_type": "code",
   "execution_count": 4,
   "id": "7e824691-17e4-4eec-b154-ab9f986345c6",
   "metadata": {},
   "outputs": [
    {
     "name": "stdout",
     "output_type": "stream",
     "text": [
      "0\n",
      "1\n",
      "1\n",
      "2\n",
      "3\n",
      "5\n",
      "8\n",
      "13\n",
      "21\n",
      "34\n"
     ]
    }
   ],
   "source": [
    "#question no 5 (to print the fibonacci)\n",
    "a=0\n",
    "b=1\n",
    "c=0\n",
    "for i in range(10):\n",
    "    print(f\"{c}\")\n",
    "    a=b\n",
    "    b=c\n",
    "    c=a+b\n",
    "    \n",
    "    \n",
    "    "
   ]
  },
  {
   "cell_type": "code",
   "execution_count": 5,
   "id": "78ee2856-e7fa-4bcd-a262-fb4490a0b0f6",
   "metadata": {},
   "outputs": [
    {
     "name": "stdin",
     "output_type": "stream",
     "text": [
      "enter the number you want to check 11\n"
     ]
    },
    {
     "name": "stdout",
     "output_type": "stream",
     "text": [
      "11 is a prime number\n"
     ]
    },
    {
     "name": "stdout",
     "output_type": "stream",
     "text": [
      "17 is a prime number\n"
     ]
    }
   ],
   "source": [
    "#question no 6 (prime or not)\n",
    "number=int(input(\"enter the number you want to check\"))\n",
    "if number<=1:\n",
    "    print(f\"{number} is not a prime number\")\n",
    "elif number==2:\n",
    "    print(\"2 is a prime number\")\n",
    "else:\n",
    "     for i in range(2, number):\n",
    "        if number%i==0:\n",
    "            print(f\"{number} is not a prime number\")\n",
    "            break\n",
    "        else:\n",
    "            print(f\"{number} is a prime number\")\n",
    "            break\n",
    " \n",
    "    \n",
    "   \n",
    "\n",
    "\n",
    "    \n",
    "    \n",
    "   \n",
    "    \n",
    "        "
   ]
  },
  {
   "cell_type": "code",
   "execution_count": 59,
   "id": "c1bc60ce-9b3e-47f8-a518-298720e107bf",
   "metadata": {},
   "outputs": [
    {
     "name": "stdout",
     "output_type": "stream",
     "text": [
      "enter the first number 8\n",
      "entert the second number 9\n",
      "enter the third number 18\n"
     ]
    },
    {
     "name": "stdout",
     "output_type": "stream",
     "text": [
      "no the third number is not the sum of two numbers\n"
     ]
    }
   ],
   "source": [
    "#question no 7 (to check either 3rd number is the sum of 2 numbers)\n",
    "firstNumber=int(input(\"enter the first number\"))\n",
    "secondNumber=int(input(\"entert the second number\"))\n",
    "thirdNumber=int(input(\"enter the third number\"))\n",
    "if firstNumber + secondNumber == thirdNumber:\n",
    "    print(\"yes the third number is the sum of two numbers \")\n",
    "else:\n",
    "    print(\"no the third number is not the sum of two numbers\")\n",
    "    \n"
   ]
  },
  {
   "cell_type": "code",
   "execution_count": 3,
   "id": "0ad2c716-388d-432d-87b0-c64201758ca3",
   "metadata": {},
   "outputs": [
    {
     "name": "stdin",
     "output_type": "stream",
     "text": [
      "enter the Divident 9\n",
      "enter the Divisor 0\n"
     ]
    },
    {
     "name": "stdout",
     "output_type": "stream",
     "text": [
      "Error! Undifined\n"
     ]
    }
   ],
   "source": [
    "#question no 9 (division) handelling divider != 0\n",
    "\n",
    "Divident=int(input(\"enter the Divident\"))\n",
    "Divisor=int(input(\"enter the Divisor\"))\n",
    "def divide(Divident, Divisor):\n",
    "    if Divisor==0:\n",
    "        print(\"Error! Undifined\")\n",
    "    else:\n",
    "        print(f\"the value is {Divident/Divisor}\")\n",
    "divide(Divident, Divisor)"
   ]
  },
  {
   "cell_type": "code",
   "execution_count": 28,
   "id": "e4c7a73a-72fc-46df-9c92-9c6e61070ac4",
   "metadata": {},
   "outputs": [
    {
     "name": "stdin",
     "output_type": "stream",
     "text": [
      "enter the number you want the list of 5\n",
      "enter the 1 no element  1\n",
      "enter the 2 no element  2\n",
      "enter the 3 no element  3\n",
      "enter the 4 no element  4\n",
      "enter the 5 no element  5\n"
     ]
    },
    {
     "name": "stdout",
     "output_type": "stream",
     "text": [
      "the greatest in the list is 5\n"
     ]
    }
   ],
   "source": [
    "# question no 10 takes the list of number and gives max value\n",
    "numberOfelement=int(input(\"enter the number you want the list of\")) \n",
    "list=[] \n",
    "for i in range(numberOfelement):\n",
    "    element=int(input(f\"enter the {i +1} no element \")) \n",
    "    list.append(element)\n",
    "\n",
    "\n",
    "for i in range(numberOfelement):\n",
    "    if list[i]>list[i-1]:\n",
    "        greatest=list[i]\n",
    "\n",
    "print(f\"the greatest in the list is {greatest}\")"
   ]
  },
  {
   "cell_type": "code",
   "execution_count": 36,
   "id": "85239df6-b52d-4889-a5b2-81a04ff39a87",
   "metadata": {},
   "outputs": [
    {
     "name": "stdin",
     "output_type": "stream",
     "text": [
      "Enter your name:  parash\n",
      "Enter your age (press Enter to skip):  20\n"
     ]
    },
    {
     "name": "stdout",
     "output_type": "stream",
     "text": [
      "Hello, parash! You are 20 years old.\n"
     ]
    }
   ],
   "source": [
    "#question no 11  Write a Python function that takes a name and an optional age parameter and prints a greeting.\n",
    "#If the age is not provided, it should default to 25\n",
    "def greet(name, age=25):\n",
    "    print(f\"Hello, {name}! You are {age} years old.\")\n",
    "\n",
    "\n",
    "name = input(\"Enter your name: \")\n",
    "\n",
    "age = input(\"Enter your age (press Enter to skip): \")\n",
    "\n",
    "# Check if age was entered\n",
    "if age.strip()== \"\":\n",
    "    greet(name)  # No age provided, use default\n",
    "else:\n",
    "    greet(name, age) \n"
   ]
  },
  {
   "cell_type": "code",
   "execution_count": 49,
   "id": "56925fff-3c1a-4be0-a039-c14114718c06",
   "metadata": {},
   "outputs": [
    {
     "name": "stdin",
     "output_type": "stream",
     "text": [
      "enter any string AEIOU\n"
     ]
    },
    {
     "name": "stdout",
     "output_type": "stream",
     "text": [
      "the number of the total vowels in the given string are 5\n"
     ]
    }
   ],
   "source": [
    "# question no 12 Write a Python program to count the number of vowels in a given string.\n",
    "string=input(\"enter any string\")\n",
    "string1=string.lower()\n",
    "length=len(string1)\n",
    "\n",
    "count=0\n",
    "for i in range(length):\n",
    "    if string1[i]==\"a\" or string1[i]==\"e\" or string1[i]==\"i\" or string1[i]==\"o\" or string1[i]==\"u\":#if string1[i] in \"aeiou\":\n",
    "        count+=1\n",
    "print(f\"the number of the total vowels in the given string are {count}\")"
   ]
  },
  {
   "cell_type": "code",
   "execution_count": 55,
   "id": "289c1117-3f6f-4cfe-b735-7c46702d92a4",
   "metadata": {},
   "outputs": [
    {
     "name": "stdin",
     "output_type": "stream",
     "text": [
      "enter the number you want the table of 10\n"
     ]
    },
    {
     "name": "stdout",
     "output_type": "stream",
     "text": [
      "10 x 1 = 10\n",
      "10 x 2 = 20\n",
      "10 x 3 = 30\n",
      "10 x 4 = 40\n",
      "10 x 5 = 50\n",
      "10 x 6 = 60\n",
      "10 x 7 = 70\n",
      "10 x 8 = 80\n",
      "10 x 9 = 90\n",
      "10 x 10 = 100\n"
     ]
    }
   ],
   "source": [
    "#13 } Write a Python program that prints a multiplication table up to (numberx10).\n",
    "number=int(input(\"enter the number you want the table of\"))\n",
    "for i in range(10):\n",
    "    print(number ,\"x\",(i+1) , \"=\" , number*(i+1)) \n"
   ]
  },
  {
   "cell_type": "code",
   "execution_count": 59,
   "id": "05d73d33-4801-4089-bc85-779b9e22d81d",
   "metadata": {},
   "outputs": [
    {
     "name": "stdin",
     "output_type": "stream",
     "text": [
      "enter the number of rows 5\n"
     ]
    },
    {
     "name": "stdout",
     "output_type": "stream",
     "text": [
      "*\n",
      "**\n",
      "***\n",
      "****\n",
      "*****\n"
     ]
    }
   ],
   "source": [
    "# 14 Write a Python program to print a right-angled triangle of '*' with a given number of rows. For\n",
    "#example, if the number of rows is 5, the output should be:\n",
    "rows=int(input(\"enter the number of rows\"))\n",
    "\n",
    "for i in range(1,rows+1):\n",
    "    p=\"*\"*i\n",
    "    print(p)\n",
    "    "
   ]
  },
  {
   "cell_type": "code",
   "execution_count": 61,
   "id": "efe19e17-46f8-48d6-a781-799b93442e5a",
   "metadata": {},
   "outputs": [
    {
     "name": "stdin",
     "output_type": "stream",
     "text": [
      "enter the number of rows 5\n"
     ]
    },
    {
     "name": "stdout",
     "output_type": "stream",
     "text": [
      "    *\n",
      "   ***\n",
      "  *****\n",
      " *******\n",
      "*********\n"
     ]
    }
   ],
   "source": [
    "#15) Write a Python program to print a pyramid of '*' with a given number of rows. For example, if\n",
    "# the number of rows is 5, the output should be:\n",
    "# *\n",
    "#  ***\n",
    "#  *****\n",
    "# *******\n",
    "# *********\n",
    "rows=int(input(\"enter the number of rows\"))\n",
    "for i in range(1,rows+1):\n",
    "    space=\" \"*(rows-i)\n",
    "    stars=\"*\"*(2*i-1)\n",
    "    print(space+stars)\n"
   ]
  },
  {
   "cell_type": "code",
   "execution_count": 69,
   "id": "e4d42cc9-6332-42ae-ac24-b15796a6735c",
   "metadata": {},
   "outputs": [
    {
     "name": "stdin",
     "output_type": "stream",
     "text": [
      "enter the number you want to check 123\n"
     ]
    },
    {
     "name": "stdout",
     "output_type": "stream",
     "text": [
      "123 is not a palindrome\n"
     ]
    }
   ],
   "source": [
    "# 1) Given an integer x, return true if x is a palindrome, and false otherwise. (LeetCode: Palindrome\n",
    "# Number)\n",
    "number=int(input(\"enter the number you want to check\"))\n",
    "num2=str(number)[::-1]\n",
    "if num2==str(number):\n",
    "    print(f\"{number} is palindrome\")\n",
    "else:\n",
    "    print(f\"{number} is not a palindrome\")\n",
    "    \n",
    "    \n",
    "\n",
    "\n",
    "\n",
    "\n",
    "\n"
   ]
  },
  {
   "cell_type": "code",
   "execution_count": 74,
   "id": "f8a980e5-21c9-475d-aab1-3e319c908b8e",
   "metadata": {},
   "outputs": [
    {
     "name": "stdout",
     "output_type": "stream",
     "text": [
      "Single number is: 500\n"
     ]
    }
   ],
   "source": [
    "# 2) Given a non-empty array of integers nums, every element appears twice except for one. Find\n",
    "# that single one. (LeetCode: Single Number)\n",
    "nums = [100, 200, 100, 200, 300,300,500]\n",
    "\n",
    "for i in range(len(nums)):\n",
    "    count = 0\n",
    "    for j in range(len(nums)):\n",
    "        if nums[i] == nums[j]:\n",
    "            count += 1\n",
    "    if count == 1:\n",
    "        print(\"Single number is:\", nums[i])\n",
    "        break\n",
    "\n"
   ]
  },
  {
   "cell_type": "code",
   "execution_count": 75,
   "id": "5f3b97d4-8ac5-4878-afcf-3a1a1508ca69",
   "metadata": {},
   "outputs": [
    {
     "name": "stdin",
     "output_type": "stream",
     "text": [
      "enter the target number 8\n"
     ]
    },
    {
     "name": "stdout",
     "output_type": "stream",
     "text": [
      "[2, 4]\n"
     ]
    }
   ],
   "source": [
    "# 3) Given an array of integers nums and an integer target, return indices of the two numbers such\n",
    "# that they add up to target. You may assume that each input would have exactly one solution,\n",
    "# and you may not use the same element twice. You can return the answer in any order.\n",
    "# (LeetCode: Two Sum)\n",
    "nums=[1,2,3,4,5]\n",
    "target=int(input(\"enter the target number\"))\n",
    "\n",
    "def twoSum(nums, target):\n",
    "    for i in range(len(nums)):\n",
    "        for j in range(i + 1, len(nums)):  # start from i+1 to avoid using the same element\n",
    "            if nums[i] + nums[j] == target:\n",
    "                return [i, j]\n",
    "print(twoSum(nums, target))"
   ]
  },
  {
   "cell_type": "code",
   "execution_count": 76,
   "id": "0dcf18c4-e8b7-45a0-bb8b-b25ecf70919e",
   "metadata": {},
   "outputs": [
    {
     "name": "stdin",
     "output_type": "stream",
     "text": [
      "Enter a number:  87\n"
     ]
    },
    {
     "name": "stdout",
     "output_type": "stream",
     "text": [
      "Not a happy number.\n"
     ]
    }
   ],
   "source": [
    "# 4) Write an algorithm to determine if a number n is happy. (LeetCode: Happy Number)\n",
    "n = int(input(\"Enter a number: \"))\n",
    "seen = []\n",
    "\n",
    "while n != 1:\n",
    "    if n in seen:\n",
    "        print(\"Not a happy number.\")\n",
    "        break\n",
    "    seen.append(n)\n",
    "\n",
    "    total = 0\n",
    "    temp = n\n",
    "    while temp > 0:\n",
    "        digit = temp % 10\n",
    "        total += digit * digit\n",
    "        temp = temp // 10\n",
    "    n = total\n",
    "\n",
    "if n == 1:\n",
    "    print(\"It is a happy number.\")\n"
   ]
  },
  {
   "cell_type": "code",
   "execution_count": 83,
   "id": "2e93ca8d-0049-48db-87d4-55d6a67a5eb7",
   "metadata": {},
   "outputs": [
    {
     "name": "stdout",
     "output_type": "stream",
     "text": [
      "True\n"
     ]
    }
   ],
   "source": [
    "# 5) Given an integer array nums, return true if any value appears at least twice in the array, and\n",
    "# return false if every element is distinct. (LeetCode: Contains Duplicate)\n",
    "nums=[1,2,3,4,1]\n",
    "count=0\n",
    "def dublicate(nums,count):\n",
    "    for i in range(len(nums)):\n",
    "        for j in range(len(nums)):\n",
    "            if i!=j:\n",
    "                if nums[i]==nums[j]:\n",
    "                    count+=1\n",
    "    if count > 1:\n",
    "        return True\n",
    "    else:\n",
    "        return False\n",
    "print(dublicate(nums,count))"
   ]
  },
  {
   "cell_type": "code",
   "execution_count": null,
   "id": "d377d009-ad5a-4bcd-9806-d9a77c8cbe8f",
   "metadata": {},
   "outputs": [],
   "source": []
  }
 ],
 "metadata": {
  "kernelspec": {
   "display_name": "Python 3 (ipykernel)",
   "language": "python",
   "name": "python3"
  },
  "language_info": {
   "codemirror_mode": {
    "name": "ipython",
    "version": 3
   },
   "file_extension": ".py",
   "mimetype": "text/x-python",
   "name": "python",
   "nbconvert_exporter": "python",
   "pygments_lexer": "ipython3",
   "version": "3.13.2"
  }
 },
 "nbformat": 4,
 "nbformat_minor": 5
}
